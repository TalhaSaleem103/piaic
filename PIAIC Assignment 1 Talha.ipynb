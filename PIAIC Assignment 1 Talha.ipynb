{
 "cells": [
  {
   "cell_type": "code",
   "execution_count": null,
   "metadata": {},
   "outputs": [],
   "source": [
    "Name = Muhammad Talha Saleem\n",
    "Roll No : AIC008406\n",
    "Campus : Saylani Gulshan (9AM - 12PM)"
   ]
  },
  {
   "cell_type": "code",
   "execution_count": 2,
   "metadata": {},
   "outputs": [
    {
     "name": "stdout",
     "output_type": "stream",
     "text": [
      "Input Radius = 0.5\n",
      "Area of Circle with radius 0.5 = 0.7853981633974483\n"
     ]
    }
   ],
   "source": [
    "#1. Calculate Area of a Circle \n",
    "import math\n",
    "radius = float(input(\"Input Radius = \"))\n",
    "area = math.pi*(radius*radius)\n",
    "print(\"Area of Circle with radius \" +str(radius)+ \" = \" + str(area))"
   ]
  },
  {
   "cell_type": "code",
   "execution_count": 3,
   "metadata": {},
   "outputs": [
    {
     "name": "stdout",
     "output_type": "stream",
     "text": [
      "Input a Number = -9\n",
      "Negative Number\n"
     ]
    }
   ],
   "source": [
    "#2. Check Number either positive, negative or zero \n",
    "num =int(input(\"Input a Number = \"))\n",
    "if num > 0:\n",
    "    print(\"Positive Number\")\n",
    "elif num < 0:   \n",
    "    print(\"Negative Number\")\n",
    "else:    \n",
    "    print(\"Given Number is Zero\")"
   ]
  },
  {
   "cell_type": "code",
   "execution_count": 4,
   "metadata": {},
   "outputs": [
    {
     "name": "stdout",
     "output_type": "stream",
     "text": [
      "Input Numerator = 10\n",
      "Input Denominator = 5\n",
      "Number 10 is completly Divided by 5\n"
     ]
    }
   ],
   "source": [
    "#3. Divisibility Check of two number\n",
    "num1 = int(input(\"Input Numerator = \"))\n",
    "num2 = int(input(\"Input Denominator = \"))\n",
    "if num1 % num2 == 0:\n",
    "    print(\"Number \" + str(num1) + \" is completly Divided by \" + str(num2))\n",
    "elif num1 % num2 != 0:\n",
    "    print(\"Number \" + str(num1) + \" is not completly Divided by \" + str(num2))"
   ]
  },
  {
   "cell_type": "code",
   "execution_count": 5,
   "metadata": {},
   "outputs": [
    {
     "name": "stdout",
     "output_type": "stream",
     "text": [
      "Enter a date in (dd/mm/yy) format:16/6/19\n",
      "Enter a date in (dd/mm/yy) format:23/6/19\n",
      "There are  7  between  16/6/19  and  23/6/19\n"
     ]
    }
   ],
   "source": [
    "#4. Days Calculator\n",
    "from datetime import date\n",
    "day1 = input(\"Enter a date in (dd/mm/yy) format:\")\n",
    "day2 = input(\"Enter a date in (dd/mm/yy) format:\")\n",
    "list = day1.split(\"/\")\n",
    "d1 = []\n",
    "for i in list:\n",
    "    d1.append(int(i))\n",
    "list = day2.split(\"/\")\n",
    "d2 = []\n",
    "for i in list:\n",
    "    d2.append(int(i))\n",
    "n1 = date(d1[2],d1[1],d1[0])\n",
    "n2 = date(d2[2],d2[1],d2[0])\n",
    "difference = n2 - n1\n",
    "print(\"There are \",difference.days,\" between \",day1,\" and \",day2)"
   ]
  },
  {
   "cell_type": "code",
   "execution_count": 6,
   "metadata": {},
   "outputs": [
    {
     "name": "stdout",
     "output_type": "stream",
     "text": [
      "Input Radius of Sphere = 1\n",
      "Area of Sphere with radius 1.0 = 4.1887902047863905\n"
     ]
    }
   ],
   "source": [
    "#5. Calculate Volume of a sphere \n",
    "import math\n",
    "radius = float(input(\"Input Radius of Sphere = \"))\n",
    "volume = (4/3)*(radius*radius*radius)*math.pi\n",
    "print(\"Area of Sphere with radius \" + str(radius) + \" = \" + str(volume))"
   ]
  },
  {
   "cell_type": "code",
   "execution_count": 7,
   "metadata": {},
   "outputs": [
    {
     "name": "stdout",
     "output_type": "stream",
     "text": [
      "Enter String: hi\n",
      "How many copies of String you need: 4\n",
      "hihihihi\n"
     ]
    }
   ],
   "source": [
    "#6. Copy string n times\n",
    "a = input(\"Enter String: \")\n",
    "b = input(\"How many copies of String you need: \")\n",
    "n = int(b)\n",
    "print (a*n)"
   ]
  },
  {
   "cell_type": "code",
   "execution_count": 7,
   "metadata": {},
   "outputs": [
    {
     "name": "stdout",
     "output_type": "stream",
     "text": [
      "Input a Number = 103\n",
      "Odd Number\n"
     ]
    }
   ],
   "source": [
    "#7. Check if number is Even or Odd\n",
    "num = int(input(\"Input a Number = \"))\n",
    "if num%2 == 0:\n",
    "    print(\"Even Number\")\n",
    "elif num%2 != 0:   \n",
    "    print(\"Odd Number\")"
   ]
  },
  {
   "cell_type": "code",
   "execution_count": 8,
   "metadata": {},
   "outputs": [
    {
     "name": "stdout",
     "output_type": "stream",
     "text": [
      "Input a Character = t\n",
      "t is not a Vowel\n"
     ]
    }
   ],
   "source": [
    "#8. Vowel Tester\n",
    "ch =(input(\"Input a Character = \"))\n",
    "if(ch == 'A' or ch == 'a' or ch == 'E' or ch == 'e' or ch == 'I' or ch == 'i' or ch =='O' or ch =='o' or ch =='U' or ch =='u'):\n",
    "    print(ch, \"is a Vowel\")\n",
    "else:\n",
    "    print(ch, \"is not a Vowel\")"
   ]
  },
  {
   "cell_type": "code",
   "execution_count": 9,
   "metadata": {},
   "outputs": [
    {
     "name": "stdout",
     "output_type": "stream",
     "text": [
      "Input magnitude of height = 4\n",
      "Input magnitude of base = 4\n",
      "Area of triangle with height 4.0 and breath 4.0 = 8.0\n"
     ]
    }
   ],
   "source": [
    "#9. Triangle area\n",
    "import math\n",
    "height = float(input(\"Input magnitude of height = \"))\n",
    "base = float(input(\"Input magnitude of base = \"))\n",
    "area = (height*base)/2\n",
    "print(\"Area of triangle with height \" +str(height) + \" and breath \" + str(base)+ \" = \" + str(area))"
   ]
  },
  {
   "cell_type": "code",
   "execution_count": 11,
   "metadata": {},
   "outputs": [
    {
     "name": "stdout",
     "output_type": "stream",
     "text": [
      "Please enter principal amount 1000\n",
      "Please Enter Rate of interest in % 10\n",
      "Enter number of years for investment 5\n",
      "After 5 years your principal amount 1000 over an interest rate of 10.0 % will be 1500.0\n"
     ]
    }
   ],
   "source": [
    "#10. Calculate Interest \n",
    "principle = int(input(\"Please enter principal amount \"))\n",
    "interest = float(input(\"Please Enter Rate of interest in % \"))\n",
    "years= int(input(\"Enter number of years for investment \"))\n",
    "a = interest/100\n",
    "i = (principle*a)*years\n",
    "final = i + principle\n",
    "print(\"After \"+str(years)+\" years your principal amount \"\n",
    "      +str(principle)+\" over an interest rate of \"+str(interest)+\" % will be \"+str(final))"
   ]
  },
  {
   "cell_type": "code",
   "execution_count": 17,
   "metadata": {
    "scrolled": true
   },
   "outputs": [
    {
     "name": "stdout",
     "output_type": "stream",
     "text": [
      "Enter Coordinate of X1 =2\n",
      "Enter Coordinate of X2 =4\n",
      "Enter Coordinate of Y1 =4\n",
      "Enter Coordinate of Y2 =4\n",
      "Distance between (2,4) and point (4,4) is  2.0\n"
     ]
    }
   ],
   "source": [
    "#11. Euclidean distance\n",
    "import math\n",
    "x1 = int(input(\"Enter Coordinate of X1 =\"))\n",
    "x2 = int(input(\"Enter Coordinate of X2 =\"))\n",
    "y1 = int(input(\"Enter Coordinate of Y1 =\"))\n",
    "y2 = int(input(\"Enter Coordinate of Y2 =\"))\n",
    "distance = math.sqrt((x2-x1)**2 + (y2-y1)**2)\n",
    "print(\"Distance between (\"+str(x1)+\",\"+ str(y1)+\") and point (\"+str(x2)+\",\"+ str(y2)+\") is \",distance)"
   ]
  },
  {
   "cell_type": "code",
   "execution_count": 19,
   "metadata": {},
   "outputs": [
    {
     "name": "stdout",
     "output_type": "stream",
     "text": [
      "Height in feet 5\n",
      "5.0 feet height in cm = 152.4\n"
     ]
    }
   ],
   "source": [
    "#12. Feet to Centimeter Converte\n",
    "height = float(input(\"Height in feet \"))\n",
    "cm = height*30.48\n",
    "print(height,\"feet height in cm =\",cm)"
   ]
  },
  {
   "cell_type": "code",
   "execution_count": 20,
   "metadata": {},
   "outputs": [
    {
     "name": "stdout",
     "output_type": "stream",
     "text": [
      "Enter height in cm = 180\n",
      "Enter weight in kg = 75\n",
      "Your BMI is 23.148148148148145\n"
     ]
    }
   ],
   "source": [
    "#13. BMI Calculator\n",
    "height = int(input(\"Enter height in cm = \"))\n",
    "weight = int(input(\"Enter weight in kg = \"))\n",
    "bmi = weight/(height*height)*10000\n",
    "print(\"Your BMI is\",bmi)"
   ]
  },
  {
   "cell_type": "code",
   "execution_count": 21,
   "metadata": {},
   "outputs": [
    {
     "name": "stdout",
     "output_type": "stream",
     "text": [
      "Enter Value of n: 5\n",
      "15\n"
     ]
    }
   ],
   "source": [
    "#14. Sum of n Positive Integer\n",
    "n = int(input(\"Enter Value of n: \"))\n",
    "sum = 0\n",
    "for i in range(n+1):\n",
    "    sum = sum + i\n",
    "print(sum)"
   ]
  },
  {
   "cell_type": "code",
   "execution_count": 22,
   "metadata": {},
   "outputs": [
    {
     "name": "stdout",
     "output_type": "stream",
     "text": [
      "Enter a number: 1234\n",
      "The sum of  1+2+3+4  is  10\n"
     ]
    }
   ],
   "source": [
    "#15. Digits Sum of a Number\n",
    "number = input(\"Enter a number: \")\n",
    "n = int(number)\n",
    "def sumDigit(n):\n",
    "    s = 0\n",
    "    while n:\n",
    "        s += n % 10\n",
    "        n//= 10\n",
    "    return s\n",
    "num = \"\"\n",
    "for i in number[:-1]:\n",
    "    num = num + i + \"+\"\n",
    "num = num + number[len(number)-1]\n",
    "print (\"The sum of \",num, \" is \", sumDigit(n)) "
   ]
  },
  {
   "cell_type": "code",
   "execution_count": 23,
   "metadata": {},
   "outputs": [
    {
     "name": "stdout",
     "output_type": "stream",
     "text": [
      "Enter a Decimal Number: 5\n",
      "Binary representation of  5  is:  101\n"
     ]
    }
   ],
   "source": [
    "#16. Decimal to Binary Converter\n",
    "decimal = int(input(\"Enter a Decimal Number: \"))\n",
    "print(\"Binary representation of \",decimal, \" is: \",bin(decimal)[2:])"
   ]
  },
  {
   "cell_type": "code",
   "execution_count": 26,
   "metadata": {},
   "outputs": [
    {
     "name": "stdout",
     "output_type": "stream",
     "text": [
      "Enter a Binary Number: 1101\n",
      "Decimal Representation of  1101  =  13\n"
     ]
    }
   ],
   "source": [
    "#17. Binary to Decimal Converter\n",
    "binary = input(\"Enter a Binary Number: \")\n",
    "print(\"Decimal Representation of \",binary,\" = \",int(binary,2))"
   ]
  },
  {
   "cell_type": "code",
   "execution_count": 27,
   "metadata": {},
   "outputs": [
    {
     "name": "stdout",
     "output_type": "stream",
     "text": [
      "Enter Text: quickbrownfoxjumpsoverthedog\n",
      "Vowels:  9 \n",
      "Consonants:  19\n"
     ]
    }
   ],
   "source": [
    "#18. Vowel and Consonants Counter\n",
    "s = input(\"Enter Text: \")\n",
    "vowel = ['a','e','i','o','u']\n",
    "vowels = 0\n",
    "consonants = 0\n",
    "for i in s:\n",
    "    if i in vowel:\n",
    "        vowels = vowels + 1\n",
    "    else:\n",
    "        consonants = consonants +1\n",
    "print(\"Vowels: \",vowels,\"\\nConsonants: \",consonants)"
   ]
  },
  {
   "cell_type": "code",
   "execution_count": 28,
   "metadata": {},
   "outputs": [
    {
     "name": "stdout",
     "output_type": "stream",
     "text": [
      "Enter Text: madam\n",
      "Text  madam  is Palindrome\n"
     ]
    }
   ],
   "source": [
    "#19. Palindrome tester\n",
    "forward = input(\"Enter Text: \")\n",
    "reverse = forward[::-1]\n",
    "if  forward == reverse:\n",
    "    print(\"Text \",forward, \" is Palindrome\")\n",
    "else:\n",
    "    print(\"Text \",forward, \" is NOT Palindrome\")"
   ]
  },
  {
   "cell_type": "code",
   "execution_count": 29,
   "metadata": {},
   "outputs": [
    {
     "name": "stdout",
     "output_type": "stream",
     "text": [
      "Enter Text: python 3.3\n",
      "Numbers =  2\n",
      "Alphabets =  6\n",
      "Spaces =  1\n",
      "Special Characters =  1\n"
     ]
    }
   ],
   "source": [
    "#20. Count Alphabets, Numbers and Special Characters\n",
    "import string\n",
    "s = input(\"Enter Text: \")\n",
    "digits = 0\n",
    "chars = 0\n",
    "special = 0\n",
    "spaces = 0\n",
    "for i in s:\n",
    "    if i.isdigit() == True:\n",
    "        digits = digits+1\n",
    "    if i.isalpha() == True:\n",
    "        chars = chars + 1\n",
    "    elif i == \" \":\n",
    "        spaces = spaces + 1\n",
    "    if i in string.punctuation:\n",
    "        special = special + 1\n",
    "print(\"Numbers = \",digits)\n",
    "print(\"Alphabets = \",chars)\n",
    "print(\"Spaces = \",spaces)\n",
    "print(\"Special Characters = \",special)"
   ]
  },
  {
   "cell_type": "code",
   "execution_count": 31,
   "metadata": {},
   "outputs": [
    {
     "name": "stdout",
     "output_type": "stream",
     "text": [
      "\n",
      "\n",
      "\n",
      "\n",
      "* \n",
      "\n",
      "* * \n",
      "\n",
      "* * * \n",
      "\n",
      "* * * * \n",
      "\n",
      "* * * * * \n",
      "\n",
      "* * * * \n",
      "\n",
      "* * * \n",
      "\n",
      "* * \n",
      "\n",
      "* "
     ]
    }
   ],
   "source": [
    "#21. Write a Python program to construct the following pattern\n",
    "for i in range(6):\n",
    "    print(\"\\n\")\n",
    "    for j in range(1,i+1):\n",
    "        print(\"*\",end = \" \")\n",
    "for i in range(5,1,-1):\n",
    "    print(\"\\n\")\n",
    "    for j in range(1,i):\n",
    "        print(\"*\",end = \" \")"
   ]
  },
  {
   "cell_type": "code",
   "execution_count": 17,
   "metadata": {},
   "outputs": [
    {
     "name": "stdout",
     "output_type": "stream",
     "text": [
      "\n",
      "\n",
      "\n",
      "\n",
      "1 \n",
      "\n",
      "1 2 \n",
      "\n",
      "1 2 3 \n",
      "\n",
      "1 2 3 4 \n",
      "\n",
      "1 2 3 4 5 \n",
      "\n",
      "1 2 3 4 \n",
      "\n",
      "1 2 3 \n",
      "\n",
      "1 2 \n",
      "\n",
      "1 "
     ]
    }
   ],
   "source": [
    "#22. Write a Python program to construct the following pattern\n",
    "for i in range(6):\n",
    "    print(\"\\n\")\n",
    "    for j in range(1,i+1):\n",
    "        print(j,end = \" \")\n",
    "\n",
    "for i in range(5,1,-1):\n",
    "    print(\"\\n\")\n",
    "    for j in range(1,i):\n",
    "        print(j,end = \" \")"
   ]
  },
  {
   "cell_type": "code",
   "execution_count": 18,
   "metadata": {},
   "outputs": [
    {
     "name": "stdout",
     "output_type": "stream",
     "text": [
      "\n",
      "\n",
      "\n",
      "\n",
      "1\n",
      "\n",
      "22\n",
      "\n",
      "333\n",
      "\n",
      "4444\n",
      "\n",
      "55555\n",
      "\n",
      "666666\n",
      "\n",
      "7777777\n",
      "\n",
      "88888888\n",
      "\n",
      "999999999"
     ]
    }
   ],
   "source": [
    "#23. Write a Python program to construct the following pattern \n",
    "for i in range(10):\n",
    "    print(\"\\n\")\n",
    "    for j in range(1,i+1):\n",
    "        print(i,end = \"\")"
   ]
  },
  {
   "cell_type": "code",
   "execution_count": null,
   "metadata": {},
   "outputs": [],
   "source": []
  }
 ],
 "metadata": {
  "kernelspec": {
   "display_name": "Python 3",
   "language": "python",
   "name": "python3"
  },
  "language_info": {
   "codemirror_mode": {
    "name": "ipython",
    "version": 3
   },
   "file_extension": ".py",
   "mimetype": "text/x-python",
   "name": "python",
   "nbconvert_exporter": "python",
   "pygments_lexer": "ipython3",
   "version": "3.7.3"
  }
 },
 "nbformat": 4,
 "nbformat_minor": 2
}
